{
 "cells": [
  {
   "cell_type": "code",
   "execution_count": null,
   "id": "2b95ab12",
   "metadata": {},
   "outputs": [],
   "source": [
    "import pandas as pd\n",
    "import numpy as np\n",
    "import xgboost as xgb\n",
    "import lightgbm as lgb\n",
    "from catboost import CatBoostRegressor\n",
    "from sklearn.ensemble import StackingRegressor\n",
    "from sklearn.linear_model import LinearRegression\n",
    "from sklearn.model_selection import train_test_split, GridSearchCV\n",
    "from sklearn.preprocessing import OneHotEncoder\n",
    "from sklearn.metrics import mean_squared_error\n",
    "from sklearn.impute import SimpleImputer"
   ]
  },
  {
   "cell_type": "code",
   "execution_count": null,
   "id": "de5c9aeb",
   "metadata": {},
   "outputs": [],
   "source": [
    "data = pd.read_csv('data/pokemon.csv')\n",
    "print(data.head())"
   ]
  },
  {
   "cell_type": "markdown",
   "id": "484e6e5d",
   "metadata": {},
   "source": [
    "### Cleaning"
   ]
  },
  {
   "cell_type": "code",
   "execution_count": null,
   "id": "429e2aa3",
   "metadata": {},
   "outputs": [],
   "source": [
    "# missing values\n",
    "# median imputation for numerical\n",
    "num_cols = ['HP', 'Attack', 'Defense', 'Sp. Atk', 'Sp. Def', 'Speed']\n",
    "\n",
    "imputer = SimpleImputer(strategy='median')\n",
    "data[num_cols] = imputer.fit_transform(data[num_cols])\n",
    "\n",
    "# most frequent value imputation for categorical\n",
    "cat_cols = ['Type 1', 'Type 2']\n",
    "imputer = SimpleImputer(strategy='most_frequent')\n",
    "data[cat_cols] = imputer.fit_transform(data[cat_cols])\n",
    "\n",
    "# capping outliers\n",
    "for col in num_cols:\n",
    "    q_low = data[col].quantile(0.01)\n",
    "    q_hi = data[col].quantile(0.99)\n",
    "    data[col] = np.where(data[col] < q_low, q_low, data[col])\n",
    "    data[col] = np.where(data[col] > q_hi, q_hi, data[col])"
   ]
  },
  {
   "cell_type": "markdown",
   "id": "45c88f3e",
   "metadata": {},
   "source": [
    "### Features"
   ]
  },
  {
   "cell_type": "code",
   "execution_count": null,
   "id": "47a5705e",
   "metadata": {},
   "outputs": [],
   "source": [
    "# encoding categorical variables\n",
    "encoder = OneHotEncoder(sparse_output=False, drop='first')\n",
    "encoded_cols = encoder.fit_transform(data[cat_cols])\n",
    "encoded_cols = pd.DataFrame(encoded_cols, columns=encoder.get_feature_names_out(cat_cols))\n",
    "\n",
    "data = data.drop(cat_cols, axis=1)\n",
    "data = pd.concat([data, encoded_cols], axis=1)\n",
    "\n",
    "data['Legendary'] = data['Legendary'].astype(int)"
   ]
  },
  {
   "cell_type": "code",
   "execution_count": null,
   "id": "c8d42e9a",
   "metadata": {},
   "outputs": [],
   "source": [
    "# feature set and target variable\n",
    "X = data.drop(columns=['Name', 'Combat Power'])\n",
    "y = data['Combat Power']\n",
    "\n",
    "# training and test sets\n",
    "X_train, X_test, y_train, y_test = train_test_split(X, y, test_size=0.2, random_state=42)"
   ]
  },
  {
   "cell_type": "code",
   "execution_count": null,
   "id": "72be95a9",
   "metadata": {},
   "outputs": [],
   "source": [
    "# base models\n",
    "base_models = [\n",
    "    ('xgboost', xgb.XGBRegressor(random_state=42)),\n",
    "    ('lightgbm', lgb.LGBMRegressor(random_state=42)),\n",
    "    ('catboost', CatBoostRegressor(random_seed=42, silent=True))\n",
    "]\n",
    "\n",
    "meta_model = LinearRegression()"
   ]
  },
  {
   "cell_type": "markdown",
   "id": "41b02045",
   "metadata": {},
   "source": [
    "### Initializing"
   ]
  },
  {
   "cell_type": "code",
   "execution_count": null,
   "id": "f4da1ce2",
   "metadata": {},
   "outputs": [],
   "source": [
    "stacking_model = StackingRegressor(estimators=base_models, final_estimator=meta_model, cv=5, n_jobs=-1, verbose=2)\n",
    "\n",
    "stacking_model.fit(X_train, y_train)\n",
    "\n",
    "y_pred_stack = stacking_model.predict(X_test)"
   ]
  },
  {
   "cell_type": "markdown",
   "id": "fb864149",
   "metadata": {},
   "source": [
    "### Evaluation"
   ]
  },
  {
   "cell_type": "code",
   "execution_count": null,
   "id": "b818a1a7",
   "metadata": {},
   "outputs": [],
   "source": [
    "# Evaluate the stacking model\n",
    "mse_stack = mean_squared_error(y_test, y_pred_stack)\n",
    "rmse_stack = np.sqrt(mse_stack)\n",
    "print(f'Stacking Model RMSE: {rmse_stack}')\n",
    "\n",
    "# Calculate the mean combat power\n",
    "mean_combat_power = y_test.mean()\n",
    "\n",
    "# Calculate the RMSE as a percentage of the mean combat power\n",
    "relative_rmse = (rmse_stack / mean_combat_power) * 100\n",
    "print(f'RMSE as a percentage of the mean combat power: {relative_rmse:.2f}%')"
   ]
  },
  {
   "cell_type": "code",
   "execution_count": null,
   "id": "cb4fc658",
   "metadata": {},
   "outputs": [],
   "source": []
  }
 ],
 "metadata": {
  "kernelspec": {
   "display_name": "Python 3 (ipykernel)",
   "language": "python",
   "name": "python3"
  },
  "language_info": {
   "codemirror_mode": {
    "name": "ipython",
    "version": 3
   },
   "file_extension": ".py",
   "mimetype": "text/x-python",
   "name": "python",
   "nbconvert_exporter": "python",
   "pygments_lexer": "ipython3",
   "version": "3.10.9"
  }
 },
 "nbformat": 4,
 "nbformat_minor": 5
}
