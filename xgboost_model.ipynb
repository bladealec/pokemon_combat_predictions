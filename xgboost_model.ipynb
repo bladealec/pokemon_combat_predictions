{
 "cells": [
  {
   "cell_type": "code",
   "execution_count": null,
   "id": "8b3cc5a8",
   "metadata": {},
   "outputs": [],
   "source": [
    "import pandas as pd\n",
    "import numpy as np\n",
    "from sklearn.model_selection import train_test_split, GridSearchCV\n",
    "from sklearn.preprocessing import OneHotEncoder\n",
    "from sklearn.metrics import mean_squared_error\n",
    "from sklearn.impute import SimpleImputer\n",
    "import xgboost as xgb"
   ]
  },
  {
   "cell_type": "code",
   "execution_count": null,
   "id": "45047a68",
   "metadata": {},
   "outputs": [],
   "source": [
    "data = pd.read_csv('data/pokemon.csv')\n",
    "print(data.head())"
   ]
  },
  {
   "cell_type": "markdown",
   "id": "ef8c3923",
   "metadata": {},
   "source": [
    "### Cleaning"
   ]
  },
  {
   "cell_type": "code",
   "execution_count": null,
   "id": "ca242362",
   "metadata": {},
   "outputs": [],
   "source": [
    "# missing values\n",
    "# median imputation for numerical\n",
    "num_cols = ['HP', 'Attack', 'Defense', 'Sp. Atk', 'Sp. Def', 'Speed']\n",
    "\n",
    "imputer = SimpleImputer(strategy='median')\n",
    "data[num_cols] = imputer.fit_transform(data[num_cols])\n",
    "\n",
    "# most frequent value imputation for categorical\n",
    "cat_cols = ['Type 1', 'Type 2']\n",
    "imputer = SimpleImputer(strategy='most_frequent')\n",
    "data[cat_cols] = imputer.fit_transform(data[cat_cols])\n",
    "\n",
    "# capping outliers\n",
    "for col in num_cols:\n",
    "    q_low = data[col].quantile(0.01)\n",
    "    q_hi = data[col].quantile(0.99)\n",
    "    data[col] = np.where(data[col] < q_low, q_low, data[col])\n",
    "    data[col] = np.where(data[col] > q_hi, q_hi, data[col])"
   ]
  },
  {
   "cell_type": "markdown",
   "id": "b7f0bbf7",
   "metadata": {},
   "source": [
    "### Encoding"
   ]
  },
  {
   "cell_type": "code",
   "execution_count": null,
   "id": "bdbd197f",
   "metadata": {},
   "outputs": [],
   "source": [
    "# encoding categorical variables\n",
    "encoder = OneHotEncoder(sparse_output=False, drop='first')\n",
    "encoded_cols = encoder.fit_transform(data[cat_cols])\n",
    "encoded_cols = pd.DataFrame(encoded_cols, columns=encoder.get_feature_names_out(cat_cols))\n",
    "\n",
    "data = data.drop(cat_cols, axis=1)\n",
    "data = pd.concat([data, encoded_cols], axis=1)\n",
    "\n",
    "data['Legendary'] = data['Legendary'].astype(int)"
   ]
  },
  {
   "cell_type": "markdown",
   "id": "8181310b",
   "metadata": {},
   "source": [
    "### Model"
   ]
  },
  {
   "cell_type": "code",
   "execution_count": null,
   "id": "d0632324",
   "metadata": {},
   "outputs": [],
   "source": [
    "# training and test sets\n",
    "X = data.drop(columns=['Name', 'Combat Power'])\n",
    "y = data['Combat Power']\n",
    " \n",
    "X_train, X_test, y_train, y_test = train_test_split(X, y, test_size=0.2, random_state=42)\n",
    "\n",
    "# parameter grid for XGBoost\n",
    "param_grid = {\n",
    "    'n_estimators': [100, 200, 300],\n",
    "    'learning_rate': [0.01, 0.1, 0.2],\n",
    "    'max_depth': [3, 5, 7],\n",
    "    'subsample': [0.7, 0.8, 0.9],\n",
    "    'colsample_bytree': [0.7, 0.8, 0.9]\n",
    "}"
   ]
  },
  {
   "cell_type": "code",
   "execution_count": null,
   "id": "cff0ea4a",
   "metadata": {},
   "outputs": [],
   "source": [
    "# evaluating best parameters \n",
    "xgboost_model = xgb.XGBRegressor(random_state=42)\n",
    "\n",
    "grid_search = GridSearchCV(estimator=xgboost_model, param_grid=param_grid, cv=5, n_jobs=-1, verbose=2)\n",
    "grid_search.fit(X_train, y_train)\n",
    "\n",
    "best_params = grid_search.best_params_\n",
    "print(f'Best parameters found for XGBoost: {best_params}')"
   ]
  },
  {
   "cell_type": "code",
   "execution_count": null,
   "id": "51187c09",
   "metadata": {},
   "outputs": [],
   "source": [
    "# XGBoost model with best parameters\n",
    "best_xgboost_model = xgb.XGBRegressor(**best_params, random_state=42)\n",
    "best_xgboost_model.fit(X_train, y_train)\n",
    "\n",
    "y_pred_xgb = best_xgboost_model.predict(X_test)"
   ]
  },
  {
   "cell_type": "markdown",
   "id": "60559eba",
   "metadata": {},
   "source": [
    "### Model Evaluation"
   ]
  },
  {
   "cell_type": "code",
   "execution_count": null,
   "id": "f77fbf47",
   "metadata": {},
   "outputs": [],
   "source": [
    "mse_xgb = mean_squared_error(y_test, y_pred_xgb)\n",
    "rmse_xgb = np.sqrt(mse_xgb)\n",
    "print(f'XGBoost RMSE: {rmse_xgb}')\n",
    "\n",
    "mean_combat_power = y_test.mean()\n",
    "\n",
    "relative_rmse = (rmse_xgb / mean_combat_power) * 100\n",
    "print(f'RMSE as a percentage of the mean combat power: {relative_rmse:.2f}%')"
   ]
  }
 ],
 "metadata": {
  "kernelspec": {
   "display_name": "Python 3 (ipykernel)",
   "language": "python",
   "name": "python3"
  },
  "language_info": {
   "codemirror_mode": {
    "name": "ipython",
    "version": 3
   },
   "file_extension": ".py",
   "mimetype": "text/x-python",
   "name": "python",
   "nbconvert_exporter": "python",
   "pygments_lexer": "ipython3",
   "version": "3.10.9"
  }
 },
 "nbformat": 4,
 "nbformat_minor": 5
}
