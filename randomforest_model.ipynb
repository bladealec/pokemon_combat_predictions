{
 "cells": [
  {
   "cell_type": "code",
   "execution_count": null,
   "id": "878b6178",
   "metadata": {},
   "outputs": [],
   "source": [
    "import pandas as pd\n",
    "import numpy as np\n",
    "from sklearn.model_selection import train_test_split\n",
    "from sklearn.preprocessing import OneHotEncoder\n",
    "from sklearn.ensemble import RandomForestRegressor\n",
    "from sklearn.metrics import mean_squared_error\n",
    "from sklearn.impute import SimpleImputer"
   ]
  },
  {
   "cell_type": "code",
   "execution_count": null,
   "id": "35fde146",
   "metadata": {},
   "outputs": [],
   "source": [
    "data = pd.read_csv('data/pokemon.csv')\n",
    "\n",
    "print(data.head())"
   ]
  },
  {
   "cell_type": "markdown",
   "id": "3e0a720f",
   "metadata": {},
   "source": [
    "### Data Cleaning"
   ]
  },
  {
   "cell_type": "code",
   "execution_count": null,
   "id": "3980c0e4",
   "metadata": {},
   "outputs": [],
   "source": [
    "# Handle missing values\n",
    "# For numerical columns, we will use the median for imputation\n",
    "# For categorical columns, we will use the most frequent value for imputation\n",
    "\n",
    "# Numerical\n",
    "num_cols = ['HP', 'Attack', 'Defense', 'Sp. Atk', 'Sp. Def', 'Speed']\n",
    "\n",
    "imputer = SimpleImputer(strategy='median')\n",
    "data[num_cols] = imputer.fit_transform(data[num_cols])\n",
    "\n",
    "# Categorical\n",
    "cat_cols = ['Type 1', 'Type 2']\n",
    "imputer = SimpleImputer(strategy='most_frequent')\n",
    "data[cat_cols] = imputer.fit_transform(data[cat_cols])"
   ]
  },
  {
   "cell_type": "code",
   "execution_count": null,
   "id": "baadaac2",
   "metadata": {},
   "outputs": [],
   "source": [
    "# Capping outliers at the 1st and 99th percentiles\n",
    "for col in num_cols:\n",
    "    q_low = data[col].quantile(0.01)\n",
    "    q_hi = data[col].quantile(0.99)\n",
    "    data[col] = np.where(data[col] < q_low, q_low, data[col])\n",
    "    data[col] = np.where(data[col] > q_hi, q_hi, data[col])"
   ]
  },
  {
   "cell_type": "markdown",
   "id": "d92b0071",
   "metadata": {},
   "source": [
    "### Feature Engineering"
   ]
  },
  {
   "cell_type": "code",
   "execution_count": null,
   "id": "824ff244",
   "metadata": {},
   "outputs": [],
   "source": [
    "# Encode categorical variables\n",
    "encoder = OneHotEncoder(sparse_output=False, drop='first')\n",
    "encoded_cols = encoder.fit_transform(data[cat_cols])\n",
    "encoded_cols = pd.DataFrame(encoded_cols, columns=encoder.get_feature_names_out(cat_cols))\n",
    "\n",
    "# Combine encoded columns with the original dataset\n",
    "data = data.drop(cat_cols, axis=1)\n",
    "data = pd.concat([data, encoded_cols], axis=1)\n",
    "\n",
    "# Encode 'Legendary' column\n",
    "data['Legendary'] = data['Legendary'].astype(int)"
   ]
  },
  {
   "cell_type": "markdown",
   "id": "8f027701",
   "metadata": {},
   "source": [
    "### Model Building"
   ]
  },
  {
   "cell_type": "code",
   "execution_count": null,
   "id": "28181361",
   "metadata": {},
   "outputs": [],
   "source": [
    "# Feature set and target variable\n",
    "X = data.drop(columns=['Name', 'Combat Power'])\n",
    "y = data['Combat Power']\n",
    "\n",
    "# Training and test sets\n",
    "X_train, X_test, y_train, y_test = train_test_split(X, y, test_size=0.2, random_state=42)\n",
    "\n",
    "# Regression model (Random Forest Regressor )\n",
    "model = RandomForestRegressor(n_estimators=100, random_state=42)\n",
    "model.fit(X_train, y_train)\n",
    "\n",
    "# Predict on the test set\n",
    "y_pred = model.predict(X_test)"
   ]
  },
  {
   "cell_type": "markdown",
   "id": "9dd3be23",
   "metadata": {},
   "source": [
    "### Evaluate the model"
   ]
  },
  {
   "cell_type": "code",
   "execution_count": null,
   "id": "8d6500de",
   "metadata": {},
   "outputs": [],
   "source": [
    "mse = mean_squared_error(y_test, y_pred)\n",
    "rmse = np.sqrt(mse)\n",
    "print(f'Root Mean Squared Error: {rmse}')"
   ]
  },
  {
   "cell_type": "code",
   "execution_count": null,
   "id": "8d92eb62",
   "metadata": {},
   "outputs": [],
   "source": [
    "# Range of combat power\n",
    "combat_power_range = data['Combat Power'].max() - data['Combat Power'].min()\n",
    "print(f'Combat Power Range: {combat_power_range}')"
   ]
  },
  {
   "cell_type": "code",
   "execution_count": null,
   "id": "cd2dcf3c",
   "metadata": {},
   "outputs": [],
   "source": [
    "# Mean combat power\n",
    "mean_combat_power = data['Combat Power'].mean()\n",
    "print(f'Mean Combat Power: {mean_combat_power}')"
   ]
  },
  {
   "cell_type": "code",
   "execution_count": null,
   "id": "b40609de",
   "metadata": {},
   "outputs": [],
   "source": [
    "# RMSE as a percentage of the mean combat power\n",
    "relative_rmse = (rmse / mean_combat_power) * 100\n",
    "print(f'Relative RMSE: {relative_rmse:.2f}%')"
   ]
  }
 ],
 "metadata": {
  "kernelspec": {
   "display_name": "Python 3 (ipykernel)",
   "language": "python",
   "name": "python3"
  },
  "language_info": {
   "codemirror_mode": {
    "name": "ipython",
    "version": 3
   },
   "file_extension": ".py",
   "mimetype": "text/x-python",
   "name": "python",
   "nbconvert_exporter": "python",
   "pygments_lexer": "ipython3",
   "version": "3.10.9"
  }
 },
 "nbformat": 4,
 "nbformat_minor": 5
}
